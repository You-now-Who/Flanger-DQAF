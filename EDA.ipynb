{
 "cells": [
  {
   "cell_type": "markdown",
   "metadata": {},
   "source": [
    "# Flanger DQAF\n",
    "\n",
    "## Introduction\n",
    "The Flanger DQAF is a toolkit to assess the quality of datasets used for AI/ML purposes. Quality refers to the degree of bias, fairness, accuracy, and transparency in the dataset.\n",
    "This tool is intended to be used to get an accurate assessment of the quality of the dataset and to provide a detailed report on the quality of the dataset, hence allowing for better decision making in the AI/ML pipeline."
   ]
  },
  {
   "cell_type": "code",
   "execution_count": null,
   "metadata": {},
   "outputs": [],
   "source": [
    "!pip install pandas"
   ]
  },
  {
   "cell_type": "code",
   "execution_count": 5,
   "metadata": {},
   "outputs": [],
   "source": [
    "import pandas as pd\n",
    "import numpy as np"
   ]
  },
  {
   "cell_type": "code",
   "execution_count": 7,
   "metadata": {},
   "outputs": [],
   "source": [
    "def load_data(file_path):\n",
    "    return pd.read_csv(file_path)\n",
    "\n",
    "df = load_data('dataset\\TLC_New_Driver_Application_Status.csv')"
   ]
  },
  {
   "cell_type": "code",
   "execution_count": 8,
   "metadata": {},
   "outputs": [
    {
     "data": {
      "text/html": [
       "<div>\n",
       "<style scoped>\n",
       "    .dataframe tbody tr th:only-of-type {\n",
       "        vertical-align: middle;\n",
       "    }\n",
       "\n",
       "    .dataframe tbody tr th {\n",
       "        vertical-align: top;\n",
       "    }\n",
       "\n",
       "    .dataframe thead th {\n",
       "        text-align: right;\n",
       "    }\n",
       "</style>\n",
       "<table border=\"1\" class=\"dataframe\">\n",
       "  <thead>\n",
       "    <tr style=\"text-align: right;\">\n",
       "      <th></th>\n",
       "      <th>App No</th>\n",
       "      <th>Type</th>\n",
       "      <th>App Date</th>\n",
       "      <th>Status</th>\n",
       "      <th>FRU Interview Scheduled</th>\n",
       "      <th>Drug Test</th>\n",
       "      <th>WAV Course</th>\n",
       "      <th>Defensive Driving</th>\n",
       "      <th>Driver Exam</th>\n",
       "      <th>Medical Clearance Form</th>\n",
       "      <th>Other Requirements</th>\n",
       "      <th>Last Updated</th>\n",
       "    </tr>\n",
       "  </thead>\n",
       "  <tbody>\n",
       "    <tr>\n",
       "      <th>0</th>\n",
       "      <td>6078403</td>\n",
       "      <td>HDR</td>\n",
       "      <td>07/16/2024</td>\n",
       "      <td>Incomplete</td>\n",
       "      <td>Not Applicable</td>\n",
       "      <td>Needed</td>\n",
       "      <td>Needed</td>\n",
       "      <td>Needed</td>\n",
       "      <td>Needed</td>\n",
       "      <td>Needed</td>\n",
       "      <td>Fingerprints needed; Copy of DMV license needed</td>\n",
       "      <td>07/17/2024 05:00:01 AM</td>\n",
       "    </tr>\n",
       "    <tr>\n",
       "      <th>1</th>\n",
       "      <td>6077989</td>\n",
       "      <td>HDR</td>\n",
       "      <td>07/09/2024</td>\n",
       "      <td>Incomplete</td>\n",
       "      <td>Not Applicable</td>\n",
       "      <td>Needed</td>\n",
       "      <td>Needed</td>\n",
       "      <td>Complete</td>\n",
       "      <td>Needed</td>\n",
       "      <td>Needed</td>\n",
       "      <td>Fingerprints needed; Copy of DMV license needed</td>\n",
       "      <td>07/17/2024 05:00:01 AM</td>\n",
       "    </tr>\n",
       "    <tr>\n",
       "      <th>2</th>\n",
       "      <td>6074279</td>\n",
       "      <td>HDR</td>\n",
       "      <td>05/09/2024</td>\n",
       "      <td>Incomplete</td>\n",
       "      <td>Not Applicable</td>\n",
       "      <td>Needed</td>\n",
       "      <td>Needed</td>\n",
       "      <td>Complete</td>\n",
       "      <td>Needed</td>\n",
       "      <td>Needed</td>\n",
       "      <td>Fingerprints needed; Copy of DMV license needed</td>\n",
       "      <td>07/17/2024 05:00:01 AM</td>\n",
       "    </tr>\n",
       "    <tr>\n",
       "      <th>3</th>\n",
       "      <td>5735329</td>\n",
       "      <td>HDR</td>\n",
       "      <td>10/17/2016</td>\n",
       "      <td>Incomplete</td>\n",
       "      <td>Not Applicable</td>\n",
       "      <td>Complete</td>\n",
       "      <td>Complete</td>\n",
       "      <td>Complete</td>\n",
       "      <td>Needed</td>\n",
       "      <td>Complete</td>\n",
       "      <td>Copy of DMV license needed</td>\n",
       "      <td>07/17/2024 05:00:01 AM</td>\n",
       "    </tr>\n",
       "    <tr>\n",
       "      <th>4</th>\n",
       "      <td>6077157</td>\n",
       "      <td>HDR</td>\n",
       "      <td>06/24/2024</td>\n",
       "      <td>Incomplete</td>\n",
       "      <td>Not Applicable</td>\n",
       "      <td>Complete</td>\n",
       "      <td>Complete</td>\n",
       "      <td>Complete</td>\n",
       "      <td>Needed</td>\n",
       "      <td>Complete</td>\n",
       "      <td>Not Applicable</td>\n",
       "      <td>07/17/2024 05:00:01 AM</td>\n",
       "    </tr>\n",
       "  </tbody>\n",
       "</table>\n",
       "</div>"
      ],
      "text/plain": [
       "    App No Type    App Date      Status FRU Interview Scheduled Drug Test  \\\n",
       "0  6078403  HDR  07/16/2024  Incomplete          Not Applicable    Needed   \n",
       "1  6077989  HDR  07/09/2024  Incomplete          Not Applicable    Needed   \n",
       "2  6074279  HDR  05/09/2024  Incomplete          Not Applicable    Needed   \n",
       "3  5735329  HDR  10/17/2016  Incomplete          Not Applicable  Complete   \n",
       "4  6077157  HDR  06/24/2024  Incomplete          Not Applicable  Complete   \n",
       "\n",
       "  WAV Course Defensive Driving Driver Exam Medical Clearance Form  \\\n",
       "0     Needed            Needed      Needed                 Needed   \n",
       "1     Needed          Complete      Needed                 Needed   \n",
       "2     Needed          Complete      Needed                 Needed   \n",
       "3   Complete          Complete      Needed               Complete   \n",
       "4   Complete          Complete      Needed               Complete   \n",
       "\n",
       "                                Other Requirements            Last Updated  \n",
       "0  Fingerprints needed; Copy of DMV license needed  07/17/2024 05:00:01 AM  \n",
       "1  Fingerprints needed; Copy of DMV license needed  07/17/2024 05:00:01 AM  \n",
       "2  Fingerprints needed; Copy of DMV license needed  07/17/2024 05:00:01 AM  \n",
       "3                       Copy of DMV license needed  07/17/2024 05:00:01 AM  \n",
       "4                                   Not Applicable  07/17/2024 05:00:01 AM  "
      ]
     },
     "execution_count": 8,
     "metadata": {},
     "output_type": "execute_result"
    }
   ],
   "source": [
    "df.head()"
   ]
  },
  {
   "cell_type": "code",
   "execution_count": null,
   "metadata": {},
   "outputs": [],
   "source": []
  }
 ],
 "metadata": {
  "kernelspec": {
   "display_name": ".venv",
   "language": "python",
   "name": "python3"
  },
  "language_info": {
   "codemirror_mode": {
    "name": "ipython",
    "version": 3
   },
   "file_extension": ".py",
   "mimetype": "text/x-python",
   "name": "python",
   "nbconvert_exporter": "python",
   "pygments_lexer": "ipython3",
   "version": "3.11.4"
  }
 },
 "nbformat": 4,
 "nbformat_minor": 2
}
